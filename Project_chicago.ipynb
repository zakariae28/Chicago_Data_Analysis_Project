{
 "cells": [
  {
   "cell_type": "code",
   "execution_count": 1,
   "id": "7ce02551",
   "metadata": {},
   "outputs": [],
   "source": [
    "import pandas as pd\n",
    "import sqlite3\n",
    "\n",
    "# Chemins des fichiers CSV\n",
    "chemin_csv_recensement = r'D:\\bureau\\BD&AI 1\\s3\\BD\\with python\\projet\\ChicagoCensusData.csv'\n",
    "chemin_csv_ecoles = r'D:\\bureau\\BD&AI 1\\s3\\BD\\with python\\projet\\ChicagoPublicSchools.csv'\n",
    "chemin_csv_criminalite = r'D:\\bureau\\BD&AI 1\\s3\\BD\\with python\\projet\\ChicagoCrimeData.csv'"
   ]
  },
  {
   "cell_type": "code",
   "execution_count": 2,
   "id": "c0303626",
   "metadata": {},
   "outputs": [],
   "source": [
    "# Chargement des données CSV\n",
    "df_recensement = pd.read_csv(chemin_csv_recensement, delimiter=',')\n",
    "df_ecoles = pd.read_csv(chemin_csv_ecoles, delimiter=',')\n",
    "df_criminalite = pd.read_csv(chemin_csv_criminalite, delimiter=',')"
   ]
  },
  {
   "cell_type": "code",
   "execution_count": 3,
   "id": "76df76a2",
   "metadata": {},
   "outputs": [],
   "source": [
    "# Connexion à la base de données SQLite\n",
    "conn = sqlite3.connect('FinalDB.db')"
   ]
  },
  {
   "cell_type": "code",
   "execution_count": 4,
   "id": "7e63e247",
   "metadata": {},
   "outputs": [
    {
     "data": {
      "text/plain": [
       "<sqlite3.Cursor at 0x1c67798cf40>"
      ]
     },
     "execution_count": 4,
     "metadata": {},
     "output_type": "execute_result"
    }
   ],
   "source": [
    "# Suppression des tables si elles existent\n",
    "conn.execute('DROP TABLE IF EXISTS table_recensement')\n",
    "conn.execute('DROP TABLE IF EXISTS table_ecoles')\n",
    "conn.execute('DROP TABLE IF EXISTS table_criminalite')"
   ]
  },
  {
   "cell_type": "code",
   "execution_count": 5,
   "id": "d8ccdb0f",
   "metadata": {},
   "outputs": [
    {
     "data": {
      "text/plain": [
       "533"
      ]
     },
     "execution_count": 5,
     "metadata": {},
     "output_type": "execute_result"
    }
   ],
   "source": [
    "# Enregistrement des DataFrames dans des tables SQLite\n",
    "df_recensement.to_sql('table_recensement', conn)\n",
    "df_ecoles.to_sql('table_ecoles', conn)\n",
    "df_criminalite.to_sql('table_criminalite', conn)"
   ]
  },
  {
   "cell_type": "code",
   "execution_count": 6,
   "id": "3464417a",
   "metadata": {},
   "outputs": [
    {
     "name": "stdout",
     "output_type": "stream",
     "text": [
      "   COUNT(ID)\n",
      "0        533\n"
     ]
    }
   ],
   "source": [
    "# Exécution des requêtes SQL\n",
    "requete_nombre_criminalite = 'SELECT COUNT(ID) FROM table_criminalite'\n",
    "resultat_nombre_criminalite = pd.read_sql(requete_nombre_criminalite, conn)\n",
    "print(resultat_nombre_criminalite)"
   ]
  },
  {
   "cell_type": "code",
   "execution_count": 7,
   "id": "ef9b8ef6",
   "metadata": {},
   "outputs": [
    {
     "name": "stdout",
     "output_type": "stream",
     "text": [
      "   COMMUNITY_AREA_NUMBER COMMUNITY_AREA_NAME\n",
      "0                   26.0  West Garfield Park\n",
      "1                   30.0      South Lawndale\n",
      "2                   37.0         Fuller Park\n",
      "3                   54.0           Riverdale\n"
     ]
    }
   ],
   "source": [
    "requete_zones_faible_revenu = 'SELECT COMMUNITY_AREA_NUMBER, COMMUNITY_AREA_NAME FROM table_recensement WHERE PER_CAPITA_INCOME < 11000'\n",
    "resultat_zones_faible_revenu = pd.read_sql(requete_zones_faible_revenu, conn)\n",
    "print(resultat_zones_faible_revenu)"
   ]
  },
  {
   "cell_type": "code",
   "execution_count": 8,
   "id": "b4dc2eeb",
   "metadata": {},
   "outputs": [
    {
     "name": "stdout",
     "output_type": "stream",
     "text": [
      "    CASE_NUMBER        DATE\n",
      "0      HT233595  2011-04-04\n",
      "1      HT133522  2010-12-30\n",
      "2      HZ138551  2016-02-02\n",
      "3      HS540106  2010-09-29\n",
      "4      HZ534771  2016-11-30\n",
      "..          ...         ...\n",
      "306    HZ378355  2016-08-02\n",
      "307    HX258445  2014-05-12\n",
      "308    HZ192829  2016-03-01\n",
      "309    HZ133234  2016-01-29\n",
      "310    JA143710  2017-02-06\n",
      "\n",
      "[311 rows x 2 columns]\n"
     ]
    }
   ],
   "source": [
    "requete_criminalite_recente = \"SELECT CASE_NUMBER, DATE FROM table_criminalite WHERE (strftime('%Y', 'now') - strftime('%Y', DATE)) < 18\"\n",
    "resultat_criminalite_recente = pd.read_sql(requete_criminalite_recente, conn)\n",
    "print(resultat_criminalite_recente)"
   ]
  },
  {
   "cell_type": "code",
   "execution_count": 9,
   "id": "64c95bc5",
   "metadata": {},
   "outputs": [
    {
     "name": "stdout",
     "output_type": "stream",
     "text": [
      "    cid                   name     type  notnull dflt_value  pk\n",
      "0     0                  index  INTEGER        0       None   0\n",
      "1     1                     ID  INTEGER        0       None   0\n",
      "2     2            CASE_NUMBER     TEXT        0       None   0\n",
      "3     3                   DATE     TEXT        0       None   0\n",
      "4     4                  BLOCK     TEXT        0       None   0\n",
      "5     5                   IUCR     TEXT        0       None   0\n",
      "6     6           PRIMARY_TYPE     TEXT        0       None   0\n",
      "7     7            DESCRIPTION     TEXT        0       None   0\n",
      "8     8   LOCATION_DESCRIPTION     TEXT        0       None   0\n",
      "9     9                 ARREST  INTEGER        0       None   0\n",
      "10   10               DOMESTIC  INTEGER        0       None   0\n",
      "11   11                   BEAT  INTEGER        0       None   0\n",
      "12   12               DISTRICT  INTEGER        0       None   0\n",
      "13   13                   WARD     REAL        0       None   0\n",
      "14   14  COMMUNITY_AREA_NUMBER     REAL        0       None   0\n",
      "15   15                FBICODE     TEXT        0       None   0\n",
      "16   16           X_COORDINATE     REAL        0       None   0\n",
      "17   17           Y_COORDINATE     REAL        0       None   0\n",
      "18   18                   YEAR  INTEGER        0       None   0\n",
      "19   19               LATITUDE     REAL        0       None   0\n",
      "20   20              LONGITUDE     REAL        0       None   0\n",
      "21   21               LOCATION     TEXT        0       None   0\n"
     ]
    }
   ],
   "source": [
    "requete_info_table_criminalite = \"PRAGMA table_info(table_criminalite)\"\n",
    "resultat_info_table_criminalite = pd.read_sql(requete_info_table_criminalite, conn)\n",
    "print(resultat_info_table_criminalite)"
   ]
  },
  {
   "cell_type": "code",
   "execution_count": 10,
   "id": "1dd0c0f6",
   "metadata": {},
   "outputs": [
    {
     "name": "stdout",
     "output_type": "stream",
     "text": [
      "   index       ID CASE_NUMBER        DATE                 BLOCK  IUCR  \\\n",
      "0    520  5276766    HN144152  2007-01-26  050XX W VAN BUREN ST  1792   \n",
      "\n",
      "  PRIMARY_TYPE               DESCRIPTION LOCATION_DESCRIPTION  ARREST  ...  \\\n",
      "0   KIDNAPPING  CHILD ABDUCTION/STRANGER               STREET       0  ...   \n",
      "\n",
      "   DISTRICT  WARD  COMMUNITY_AREA_NUMBER  FBICODE  X_COORDINATE Y_COORDINATE  \\\n",
      "0        15  29.0                   25.0       20     1143050.0    1897546.0   \n",
      "\n",
      "   YEAR   LATITUDE  LONGITUDE                       LOCATION  \n",
      "0  2007  41.874908 -87.750249  (41.874908413, -87.750249307)  \n",
      "\n",
      "[1 rows x 22 columns]\n"
     ]
    }
   ],
   "source": [
    "requete_kidnapping_recent = \"SELECT * FROM table_criminalite WHERE PRIMARY_TYPE = 'KIDNAPPING' AND (strftime('%Y', 'now') - strftime('%Y', DATE)) < 18\"\n",
    "resultat_kidnapping_recent = pd.read_sql(requete_kidnapping_recent, conn)\n",
    "print(resultat_kidnapping_recent)"
   ]
  },
  {
   "cell_type": "code",
   "execution_count": 11,
   "id": "0105dff3",
   "metadata": {},
   "outputs": [
    {
     "name": "stdout",
     "output_type": "stream",
     "text": [
      "Empty DataFrame\n",
      "Columns: [PRIMARY_TYPE, NAME_OF_SCHOOL]\n",
      "Index: []\n"
     ]
    }
   ],
   "source": [
    "requete_relation_criminalite_ecole = \"SELECT t.PRIMARY_TYPE, x.NAME_OF_SCHOOL FROM table_criminalite t JOIN table_ecoles x ON t.LOCATION = x.LOCATION\"\n",
    "resultat_relation_criminalite_ecole = pd.read_sql(requete_relation_criminalite_ecole, conn)\n",
    "print(resultat_relation_criminalite_ecole)"
   ]
  },
  {
   "cell_type": "code",
   "execution_count": 12,
   "id": "19edbe8d",
   "metadata": {},
   "outputs": [
    {
     "name": "stdout",
     "output_type": "stream",
     "text": [
      "  Elementary, Middle, or High School  avg_safety_score\n",
      "0                                 ES         49.520384\n",
      "1                                 HS         49.623529\n",
      "2                                 MS         48.000000\n"
     ]
    }
   ],
   "source": [
    "requete_moyenne_score_securite = \"SELECT `Elementary, Middle, or High School`, AVG(SAFETY_SCORE) AS avg_safety_score FROM table_ecoles WHERE `Elementary, Middle, or High School` IN ('MS', 'HS', 'ES') GROUP BY `Elementary, Middle, or High School`\"\n",
    "resultat_moyenne_score_securite = pd.read_sql(requete_moyenne_score_securite, conn)\n",
    "print(resultat_moyenne_score_securite)"
   ]
  },
  {
   "cell_type": "code",
   "execution_count": 13,
   "id": "3577f112",
   "metadata": {},
   "outputs": [
    {
     "name": "stdout",
     "output_type": "stream",
     "text": [
      "   COMMUNITY_AREA_NUMBER  PER_CAPITA_INCOME\n",
      "0                   54.0               8201\n",
      "1                   37.0              10432\n",
      "2                   68.0              11888\n",
      "3                   29.0              12034\n",
      "4                   27.0              12961\n"
     ]
    }
   ],
   "source": [
    "requete_pauvrete_revenu = \"SELECT COMMUNITY_AREA_NUMBER, PER_CAPITA_INCOME FROM table_recensement ORDER BY PERCENT_HOUSEHOLDS_BELOW_POVERTY DESC LIMIT 5\"\n",
    "resultat_pauvrete_revenu = pd.read_sql(requete_pauvrete_revenu, conn)\n",
    "print(resultat_pauvrete_revenu)"
   ]
  },
  {
   "cell_type": "code",
   "execution_count": 14,
   "id": "5a750b88",
   "metadata": {},
   "outputs": [
    {
     "name": "stdout",
     "output_type": "stream",
     "text": [
      "   COMMUNITY_AREA_NUMBER COMMUNITY_AREA_NAME  crime_count\n",
      "0                   25.0              Austin           43\n"
     ]
    }
   ],
   "source": [
    "requete_zone_criminalite_max = \"SELECT v.COMMUNITY_AREA_NUMBER, v.COMMUNITY_AREA_NAME, COUNT(b.COMMUNITY_AREA_NUMBER) as crime_count FROM table_recensement v LEFT JOIN table_criminalite b ON v.COMMUNITY_AREA_NUMBER = b.COMMUNITY_AREA_NUMBER GROUP BY v.COMMUNITY_AREA_NUMBER, v.COMMUNITY_AREA_NAME ORDER BY crime_count DESC LIMIT 1\"\n",
    "resultat_zone_criminalite_max = pd.read_sql(requete_zone_criminalite_max, conn)\n",
    "print(resultat_zone_criminalite_max)"
   ]
  },
  {
   "cell_type": "code",
   "execution_count": 15,
   "id": "7ae2a99b",
   "metadata": {},
   "outputs": [
    {
     "name": "stdout",
     "output_type": "stream",
     "text": [
      "  COMMUNITY_AREA_NAME\n",
      "0           Riverdale\n"
     ]
    }
   ],
   "source": [
    "requete_zone_hardship_max = \"SELECT COMMUNITY_AREA_NAME FROM table_recensement WHERE HARDSHIP_INDEX = (SELECT MAX(HARDSHIP_INDEX) FROM table_recensement)\"\n",
    "resultat_zone_hardship_max = pd.read_sql(requete_zone_hardship_max, conn)\n",
    "print(resultat_zone_hardship_max)"
   ]
  },
  {
   "cell_type": "code",
   "execution_count": 16,
   "id": "9da2edbb",
   "metadata": {},
   "outputs": [
    {
     "name": "stdout",
     "output_type": "stream",
     "text": [
      "  COMMUNITY_AREA_NAME\n",
      "0              Austin\n"
     ]
    }
   ],
   "source": [
    "requete_zone_criminalite_max_comm = \"SELECT COMMUNITY_AREA_NAME FROM table_recensement WHERE COMMUNITY_AREA_NUMBER = (SELECT COMMUNITY_AREA_NUMBER FROM table_criminalite GROUP BY COMMUNITY_AREA_NUMBER ORDER BY COUNT(*) DESC LIMIT 1)\"\n",
    "resultat_zone_criminalite_max_comm = pd.read_sql(requete_zone_criminalite_max_comm, conn)\n",
    "print(resultat_zone_criminalite_max_comm)"
   ]
  },
  {
   "cell_type": "code",
   "execution_count": null,
   "id": "e2c5b624",
   "metadata": {},
   "outputs": [],
   "source": []
  }
 ],
 "metadata": {
  "kernelspec": {
   "display_name": "Python 3 (ipykernel)",
   "language": "python",
   "name": "python3"
  },
  "language_info": {
   "codemirror_mode": {
    "name": "ipython",
    "version": 3
   },
   "file_extension": ".py",
   "mimetype": "text/x-python",
   "name": "python",
   "nbconvert_exporter": "python",
   "pygments_lexer": "ipython3",
   "version": "3.11.5"
  }
 },
 "nbformat": 4,
 "nbformat_minor": 5
}
